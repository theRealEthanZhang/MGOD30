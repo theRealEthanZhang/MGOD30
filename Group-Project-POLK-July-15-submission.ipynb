{
 "cells": [
  {
   "cell_type": "code",
   "execution_count": 1,
   "metadata": {},
   "outputs": [],
   "source": [
    "# Load modules required \n",
    "import pandas as pd               # for data manipulation\n",
    "import numpy as np                # for stats and numerical analysis\n",
    "import matplotlib.pyplot as plt   # for plotting and data visualization\n",
    "import sqlite3 as sqldatabase     # for importing data using SQL\n",
    "import scipy.stats as stats       # for additional math calculations"
   ]
  },
  {
   "cell_type": "code",
   "execution_count": 3,
   "metadata": {},
   "outputs": [
    {
     "data": {
      "text/html": [
       "<div>\n",
       "<style scoped>\n",
       "    .dataframe tbody tr th:only-of-type {\n",
       "        vertical-align: middle;\n",
       "    }\n",
       "\n",
       "    .dataframe tbody tr th {\n",
       "        vertical-align: top;\n",
       "    }\n",
       "\n",
       "    .dataframe thead th {\n",
       "        text-align: right;\n",
       "    }\n",
       "</style>\n",
       "<table border=\"1\" class=\"dataframe\">\n",
       "  <thead>\n",
       "    <tr style=\"text-align: right;\">\n",
       "      <th></th>\n",
       "      <th>MAKE</th>\n",
       "      <th>SERIES</th>\n",
       "      <th>MODEL</th>\n",
       "      <th>MODEL_YEAR</th>\n",
       "      <th>REG_DT</th>\n",
       "      <th>FLT_CD</th>\n",
       "      <th>PROV</th>\n",
       "    </tr>\n",
       "  </thead>\n",
       "  <tbody>\n",
       "    <tr>\n",
       "      <th>0</th>\n",
       "      <td>ACURA</td>\n",
       "      <td>ILX</td>\n",
       "      <td>4DR BASE</td>\n",
       "      <td>2020</td>\n",
       "      <td>20191112</td>\n",
       "      <td>DP</td>\n",
       "      <td>QC</td>\n",
       "    </tr>\n",
       "    <tr>\n",
       "      <th>1</th>\n",
       "      <td>ACURA</td>\n",
       "      <td>ILX</td>\n",
       "      <td>4DR BASE</td>\n",
       "      <td>2020</td>\n",
       "      <td>20191115</td>\n",
       "      <td>ML</td>\n",
       "      <td>ON</td>\n",
       "    </tr>\n",
       "    <tr>\n",
       "      <th>2</th>\n",
       "      <td>ACURA</td>\n",
       "      <td>ILX</td>\n",
       "      <td>4DR BASE</td>\n",
       "      <td>2020</td>\n",
       "      <td>20191122</td>\n",
       "      <td>ML</td>\n",
       "      <td>QC</td>\n",
       "    </tr>\n",
       "    <tr>\n",
       "      <th>3</th>\n",
       "      <td>ACURA</td>\n",
       "      <td>ILX</td>\n",
       "      <td>4DR BASE</td>\n",
       "      <td>2020</td>\n",
       "      <td>20191130</td>\n",
       "      <td>0</td>\n",
       "      <td>AB</td>\n",
       "    </tr>\n",
       "    <tr>\n",
       "      <th>4</th>\n",
       "      <td>ACURA</td>\n",
       "      <td>ILX</td>\n",
       "      <td>4DR BASE</td>\n",
       "      <td>2020</td>\n",
       "      <td>20191204</td>\n",
       "      <td>ML</td>\n",
       "      <td>ON</td>\n",
       "    </tr>\n",
       "  </tbody>\n",
       "</table>\n",
       "</div>"
      ],
      "text/plain": [
       "    MAKE SERIES     MODEL  MODEL_YEAR    REG_DT FLT_CD PROV\n",
       "0  ACURA    ILX  4DR BASE        2020  20191112     DP   QC\n",
       "1  ACURA    ILX  4DR BASE        2020  20191115     ML   ON\n",
       "2  ACURA    ILX  4DR BASE        2020  20191122     ML   QC\n",
       "3  ACURA    ILX  4DR BASE        2020  20191130      0   AB\n",
       "4  ACURA    ILX  4DR BASE        2020  20191204     ML   ON"
      ]
     },
     "execution_count": 3,
     "metadata": {},
     "output_type": "execute_result"
    }
   ],
   "source": [
    "# Polk data for 2019\n",
    "dfPolk_2019 = pd.read_csv(\"/Users/sizlee/Desktop/Analytics project/Toyota_Updated_July9/TCI_REGS_DF_20200116.csv\", header=0)\n",
    "dfPolk_2019.head(5)"
   ]
  },
  {
   "cell_type": "code",
   "execution_count": 4,
   "metadata": {},
   "outputs": [
    {
     "data": {
      "text/plain": [
       "(2016657, 7)"
      ]
     },
     "execution_count": 4,
     "metadata": {},
     "output_type": "execute_result"
    }
   ],
   "source": [
    "dfPolk_2019.shape"
   ]
  },
  {
   "cell_type": "code",
   "execution_count": 5,
   "metadata": {},
   "outputs": [
    {
     "data": {
      "text/html": [
       "<div>\n",
       "<style scoped>\n",
       "    .dataframe tbody tr th:only-of-type {\n",
       "        vertical-align: middle;\n",
       "    }\n",
       "\n",
       "    .dataframe tbody tr th {\n",
       "        vertical-align: top;\n",
       "    }\n",
       "\n",
       "    .dataframe thead th {\n",
       "        text-align: right;\n",
       "    }\n",
       "</style>\n",
       "<table border=\"1\" class=\"dataframe\">\n",
       "  <thead>\n",
       "    <tr style=\"text-align: right;\">\n",
       "      <th></th>\n",
       "      <th>MAKE</th>\n",
       "      <th>SERIES</th>\n",
       "      <th>MODEL</th>\n",
       "      <th>MODEL_YEAR</th>\n",
       "      <th>REG_DT</th>\n",
       "      <th>FLT_CD</th>\n",
       "      <th>Toy_CD</th>\n",
       "      <th>Toy_SEG</th>\n",
       "      <th>PROV</th>\n",
       "    </tr>\n",
       "  </thead>\n",
       "  <tbody>\n",
       "    <tr>\n",
       "      <th>0</th>\n",
       "      <td>ACURA</td>\n",
       "      <td>ILX</td>\n",
       "      <td>4DR BASE</td>\n",
       "      <td>2020</td>\n",
       "      <td>20200205</td>\n",
       "      <td>0</td>\n",
       "      <td>R</td>\n",
       "      <td>LUXURY LOW</td>\n",
       "      <td>QC</td>\n",
       "    </tr>\n",
       "    <tr>\n",
       "      <th>1</th>\n",
       "      <td>ACURA</td>\n",
       "      <td>ILX</td>\n",
       "      <td>4DR PREM/TECH</td>\n",
       "      <td>2018</td>\n",
       "      <td>20200120</td>\n",
       "      <td>0</td>\n",
       "      <td>R</td>\n",
       "      <td>LUXURY LOW</td>\n",
       "      <td>SK</td>\n",
       "    </tr>\n",
       "    <tr>\n",
       "      <th>2</th>\n",
       "      <td>ACURA</td>\n",
       "      <td>ILX</td>\n",
       "      <td>4DR PREM/TECH</td>\n",
       "      <td>2018</td>\n",
       "      <td>20200121</td>\n",
       "      <td>0</td>\n",
       "      <td>R</td>\n",
       "      <td>LUXURY LOW</td>\n",
       "      <td>AB</td>\n",
       "    </tr>\n",
       "    <tr>\n",
       "      <th>3</th>\n",
       "      <td>ACURA</td>\n",
       "      <td>ILX</td>\n",
       "      <td>4DR PREM/TECH</td>\n",
       "      <td>2018</td>\n",
       "      <td>20200125</td>\n",
       "      <td>0</td>\n",
       "      <td>R</td>\n",
       "      <td>LUXURY LOW</td>\n",
       "      <td>SK</td>\n",
       "    </tr>\n",
       "    <tr>\n",
       "      <th>4</th>\n",
       "      <td>ACURA</td>\n",
       "      <td>ILX</td>\n",
       "      <td>4DR PREM/TECH</td>\n",
       "      <td>2018</td>\n",
       "      <td>20200131</td>\n",
       "      <td>0</td>\n",
       "      <td>R</td>\n",
       "      <td>LUXURY LOW</td>\n",
       "      <td>NS</td>\n",
       "    </tr>\n",
       "  </tbody>\n",
       "</table>\n",
       "</div>"
      ],
      "text/plain": [
       "    MAKE SERIES          MODEL  MODEL_YEAR    REG_DT FLT_CD Toy_CD  \\\n",
       "0  ACURA    ILX       4DR BASE        2020  20200205      0      R   \n",
       "1  ACURA    ILX  4DR PREM/TECH        2018  20200120      0      R   \n",
       "2  ACURA    ILX  4DR PREM/TECH        2018  20200121      0      R   \n",
       "3  ACURA    ILX  4DR PREM/TECH        2018  20200125      0      R   \n",
       "4  ACURA    ILX  4DR PREM/TECH        2018  20200131      0      R   \n",
       "\n",
       "      Toy_SEG PROV  \n",
       "0  LUXURY LOW   QC  \n",
       "1  LUXURY LOW   SK  \n",
       "2  LUXURY LOW   AB  \n",
       "3  LUXURY LOW   SK  \n",
       "4  LUXURY LOW   NS  "
      ]
     },
     "execution_count": 5,
     "metadata": {},
     "output_type": "execute_result"
    }
   ],
   "source": [
    "# Polk data for 2020\n",
    "dfPolk_2020 = pd.read_csv(\"/Users/sizlee/Desktop/Analytics project/Toyota_Updated_July9/TCI_REGS_DF_20200430.csv\", header=0)\n",
    "dfPolk_2020.head(5)"
   ]
  },
  {
   "cell_type": "code",
   "execution_count": 6,
   "metadata": {},
   "outputs": [
    {
     "data": {
      "text/plain": [
       "(382430, 9)"
      ]
     },
     "execution_count": 6,
     "metadata": {},
     "output_type": "execute_result"
    }
   ],
   "source": [
    "dfPolk_2020.shape"
   ]
  },
  {
   "cell_type": "code",
   "execution_count": 7,
   "metadata": {},
   "outputs": [
    {
     "data": {
      "text/plain": [
       "MAKE          object\n",
       "SERIES        object\n",
       "MODEL         object\n",
       "MODEL_YEAR     int64\n",
       "REG_DT         int64\n",
       "FLT_CD        object\n",
       "PROV          object\n",
       "dtype: object"
      ]
     },
     "execution_count": 7,
     "metadata": {},
     "output_type": "execute_result"
    }
   ],
   "source": [
    "# checking data types for 2019 POLK data\n",
    "dfPolk_2019.dtypes"
   ]
  },
  {
   "cell_type": "code",
   "execution_count": 8,
   "metadata": {},
   "outputs": [
    {
     "data": {
      "text/plain": [
       "MAKE          0\n",
       "SERIES        0\n",
       "MODEL         0\n",
       "MODEL_YEAR    0\n",
       "REG_DT        0\n",
       "FLT_CD        0\n",
       "PROV          0\n",
       "dtype: int64"
      ]
     },
     "execution_count": 8,
     "metadata": {},
     "output_type": "execute_result"
    }
   ],
   "source": [
    "# checking how many columns have null in each case for 2019 POLK data\n",
    "dfPolk_2019.isnull().sum()"
   ]
  },
  {
   "cell_type": "code",
   "execution_count": 9,
   "metadata": {},
   "outputs": [
    {
     "data": {
      "text/plain": [
       "MAKE          object\n",
       "SERIES        object\n",
       "MODEL         object\n",
       "MODEL_YEAR     int64\n",
       "REG_DT         int64\n",
       "FLT_CD        object\n",
       "Toy_CD        object\n",
       "Toy_SEG       object\n",
       "PROV          object\n",
       "dtype: object"
      ]
     },
     "execution_count": 9,
     "metadata": {},
     "output_type": "execute_result"
    }
   ],
   "source": [
    "# checking data types for 2020 POLK data\n",
    "dfPolk_2020.dtypes"
   ]
  },
  {
   "cell_type": "code",
   "execution_count": 10,
   "metadata": {},
   "outputs": [
    {
     "data": {
      "text/plain": [
       "MAKE          0\n",
       "SERIES        0\n",
       "MODEL         0\n",
       "MODEL_YEAR    0\n",
       "REG_DT        0\n",
       "FLT_CD        0\n",
       "Toy_CD        0\n",
       "Toy_SEG       0\n",
       "PROV          0\n",
       "dtype: int64"
      ]
     },
     "execution_count": 10,
     "metadata": {},
     "output_type": "execute_result"
    }
   ],
   "source": [
    "# checking how many columns have null in each case for 2020 POLK data\n",
    "dfPolk_2020.isnull().sum()"
   ]
  },
  {
   "cell_type": "code",
   "execution_count": 111,
   "metadata": {},
   "outputs": [
    {
     "data": {
      "text/plain": [
       "155293"
      ]
     },
     "execution_count": 111,
     "metadata": {},
     "output_type": "execute_result"
    }
   ],
   "source": [
    "Jan2019 = dfPolk_2019[dfPolk_2019['REG_DT'] <= 20190131]\n",
    "Jan2019.shape[0]"
   ]
  },
  {
   "cell_type": "code",
   "execution_count": 112,
   "metadata": {},
   "outputs": [
    {
     "data": {
      "text/plain": [
       "17090"
      ]
     },
     "execution_count": 112,
     "metadata": {},
     "output_type": "execute_result"
    }
   ],
   "source": [
    "Jan19Toyota = Jan2019[ Jan2019[\"MAKE\"] == \"TOYOTA\" ] \n",
    "Jan19Toyota.shape[0]"
   ]
  },
  {
   "cell_type": "code",
   "execution_count": 116,
   "metadata": {},
   "outputs": [
    {
     "name": "stdout",
     "output_type": "stream",
     "text": [
      "11%\n"
     ]
    }
   ],
   "source": [
    "Jan19Toyota.shape[0] / Jan2019.shape[0]\n",
    "percentage = \"{:.0%}\".format(Jan19Toyota.shape[0] / Jan2019.shape[0])\n",
    "print(percentage)"
   ]
  },
  {
   "cell_type": "code",
   "execution_count": 121,
   "metadata": {},
   "outputs": [
    {
     "data": {
      "text/plain": [
       "113925"
      ]
     },
     "execution_count": 121,
     "metadata": {},
     "output_type": "execute_result"
    }
   ],
   "source": [
    "Feb2019 = dfPolk_2019[(dfPolk_2019['REG_DT'] > 20190131) & (dfPolk_2019['REG_DT'] <= 20190228) ]\n",
    "Feb2019.shape[0]"
   ]
  },
  {
   "cell_type": "code",
   "execution_count": 122,
   "metadata": {},
   "outputs": [
    {
     "data": {
      "text/plain": [
       "11603"
      ]
     },
     "execution_count": 122,
     "metadata": {},
     "output_type": "execute_result"
    }
   ],
   "source": [
    "Feb19Toyota = Feb2019[ Feb2019[\"MAKE\"] == \"TOYOTA\" ] \n",
    "Feb19Toyota.shape[0]"
   ]
  },
  {
   "cell_type": "code",
   "execution_count": 123,
   "metadata": {},
   "outputs": [
    {
     "name": "stdout",
     "output_type": "stream",
     "text": [
      "10%\n"
     ]
    }
   ],
   "source": [
    "Feb19Toyota.shape[0] / Feb2019.shape[0]\n",
    "percentage = \"{:.0%}\".format(Feb19Toyota.shape[0] / Feb2019.shape[0])\n",
    "print(percentage)"
   ]
  },
  {
   "cell_type": "code",
   "execution_count": null,
   "metadata": {},
   "outputs": [],
   "source": []
  }
 ],
 "metadata": {
  "kernelspec": {
   "display_name": "Python 3",
   "language": "python",
   "name": "python3"
  },
  "language_info": {
   "codemirror_mode": {
    "name": "ipython",
    "version": 3
   },
   "file_extension": ".py",
   "mimetype": "text/x-python",
   "name": "python",
   "nbconvert_exporter": "python",
   "pygments_lexer": "ipython3",
   "version": "3.7.6"
  }
 },
 "nbformat": 4,
 "nbformat_minor": 4
}
